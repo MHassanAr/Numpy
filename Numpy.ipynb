{
 "cells": [
  {
   "cell_type": "markdown",
   "id": "2b316030-8b45-484d-825d-a5b1c87e3a34",
   "metadata": {},
   "source": [
    "<h3>Getting started</h3>"
   ]
  },
  {
   "cell_type": "code",
   "execution_count": 3,
   "id": "4b6ea553-5c5e-4070-b030-5390feb0d598",
   "metadata": {},
   "outputs": [],
   "source": [
    "import numpy as np"
   ]
  },
  {
   "cell_type": "code",
   "execution_count": 4,
   "id": "2151aaa6-0b6d-488c-b868-59495cb4b159",
   "metadata": {},
   "outputs": [
    {
     "name": "stdout",
     "output_type": "stream",
     "text": [
      "[10 20 30 40]\n",
      "<class 'numpy.ndarray'>\n"
     ]
    }
   ],
   "source": [
    "arr = np.array([10, 20, 30, 40])\n",
    "print(arr)\n",
    "print(type(arr))"
   ]
  },
  {
   "cell_type": "markdown",
   "id": "4696a73d-d131-42e3-a9fd-a1a42a5b562b",
   "metadata": {},
   "source": [
    "<h3>Print numpy version</h3>"
   ]
  },
  {
   "cell_type": "code",
   "execution_count": 9,
   "id": "ea3962d9-e05a-4bb3-b936-fcd708f840be",
   "metadata": {},
   "outputs": [
    {
     "name": "stdout",
     "output_type": "stream",
     "text": [
      "1.26.4\n"
     ]
    }
   ],
   "source": [
    "print(np.__version__)"
   ]
  },
  {
   "cell_type": "markdown",
   "id": "81e7aa60-c715-451b-9fbe-a16fd9e852cb",
   "metadata": {},
   "source": [
    "<h3>Check dimension</h3>"
   ]
  },
  {
   "cell_type": "code",
   "execution_count": 14,
   "id": "d7d12d8f-0732-413b-b9fe-3d19b5d3c973",
   "metadata": {},
   "outputs": [
    {
     "name": "stdout",
     "output_type": "stream",
     "text": [
      "0\n",
      "1\n",
      "2\n",
      "3\n"
     ]
    }
   ],
   "source": [
    "a = np.array(42)\n",
    "b = np.array([1, 2, 3])\n",
    "c = np.array([[1, 2, 3], [4, 5, 6]])\n",
    "d = np.array([[[1, 2, 3], [4, 5, 6], [7, 8, 9]]])\n",
    "\n",
    "print(a.ndim)\n",
    "print(b.ndim)\n",
    "print(c.ndim)\n",
    "print(d.ndim)"
   ]
  },
  {
   "cell_type": "markdown",
   "id": "d969b68e-bc1e-4305-abe8-dfa17d92d18a",
   "metadata": {},
   "source": [
    "<h3>Array Indexing</h3>"
   ]
  },
  {
   "cell_type": "code",
   "execution_count": 19,
   "id": "8fee46e1-a45e-46fa-88d3-d0d8943d9521",
   "metadata": {},
   "outputs": [
    {
     "name": "stdout",
     "output_type": "stream",
     "text": [
      "10\n",
      "50\n"
     ]
    }
   ],
   "source": [
    "arr = np.array([10, 20, 30, 40])\n",
    "print(arr[0])\n",
    "print(arr[0] + arr[3])"
   ]
  },
  {
   "cell_type": "code",
   "execution_count": 21,
   "id": "78a31712-c864-4dd5-87c9-b6d17742cb1b",
   "metadata": {},
   "outputs": [
    {
     "name": "stdout",
     "output_type": "stream",
     "text": [
      "The second element of 2nd row is: 7\n"
     ]
    }
   ],
   "source": [
    "arr = np.array([[1, 2, 3, 4, 5], [6, 7, 8, 9, 10]])\n",
    "print(f\"The second element of 2nd row is: {arr[1][1]}\")"
   ]
  },
  {
   "cell_type": "code",
   "execution_count": 23,
   "id": "15586907-cf26-4d22-9e2e-69ad0ac15a3e",
   "metadata": {},
   "outputs": [
    {
     "name": "stdout",
     "output_type": "stream",
     "text": [
      "The fourth element of the 3rd row is: 14\n"
     ]
    }
   ],
   "source": [
    "arr = np.array([[[1, 2, 3, 4, 5], [6, 7, 8, 9, 10], [11, 12, 13, 14, 15]]])\n",
    "print(f\"The fourth element of the 3rd row is: {arr[0][2][3]}\")"
   ]
  },
  {
   "cell_type": "markdown",
   "id": "c3504a36-7bf7-458f-be57-73da8b587753",
   "metadata": {},
   "source": [
    "<h3>Array Slicing</h3>"
   ]
  },
  {
   "cell_type": "code",
   "execution_count": 46,
   "id": "b062f192-5c0c-4411-82d2-5e3c72fbd752",
   "metadata": {},
   "outputs": [
    {
     "name": "stdout",
     "output_type": "stream",
     "text": [
      "\n",
      " [4 5 6 7]\n",
      "\n",
      " [ 9 10 11 12 13 14 15]\n",
      "\n",
      " [1 2 3 4]\n",
      "\n",
      " [ 2  4  6  8 10]\n",
      "\n",
      " [ 1  4  7 10 13]\n"
     ]
    }
   ],
   "source": [
    "arr = np.array([1, 2, 3, 4, 5, 6, 7, 8, 9, 10, 11, 12, 13, 14, 15])\n",
    "\n",
    "#Strating from 3 till 6th index 7th index is not included\n",
    "print(\"\\n\",arr[3:7])\n",
    "#From 8th index to the end\n",
    "print(\"\\n\",arr[8:])\n",
    "#From start till index 3\n",
    "print(\"\\n\",arr[:4])\n",
    "#From index 1 till index 9 in 2 steps\n",
    "print(\"\\n\",arr[1:10:2])\n",
    "#From index 0 till end in 3 steps\n",
    "print(\"\\n\",arr[::3])"
   ]
  },
  {
   "cell_type": "code",
   "execution_count": 52,
   "id": "292e32bc-9df3-4e2a-b17d-a6083e801191",
   "metadata": {},
   "outputs": [
    {
     "name": "stdout",
     "output_type": "stream",
     "text": [
      "\n",
      " [3 4]\n",
      "\n",
      " [9]\n",
      "\n",
      " [3 8]\n",
      "\n",
      " [[3 4]\n",
      " [8 9]]\n"
     ]
    }
   ],
   "source": [
    "arr = np.array([[1, 2, 3, 4, 5], [6, 7, 8, 9, 10]])\n",
    "\n",
    "#Slicing in row 1 from 2nd till index 4\n",
    "print(\"\\n\",arr[0, 2:4])\n",
    "#Slicing in row 2 from 3nd till index 4\n",
    "print(\"\\n\",arr[1, 3:4])\n",
    "#Printing 3rd elemet from both rows\n",
    "print(\"\\n\",arr[0:2, 2])\n",
    "#From both rows printing elements from index 2 till index 4\n",
    "print(\"\\n\",arr[0:2, 2:4])"
   ]
  },
  {
   "cell_type": "markdown",
   "id": "129004bf-2c39-4c7f-8524-02ea1f666a79",
   "metadata": {},
   "source": [
    "<h3>Array data types</h3>"
   ]
  },
  {
   "cell_type": "code",
   "execution_count": 60,
   "id": "1d70fd26-6684-4c92-a12d-e0f968e489af",
   "metadata": {},
   "outputs": [
    {
     "name": "stdout",
     "output_type": "stream",
     "text": [
      "int32\n",
      "float64\n",
      "<U2\n",
      "bool\n"
     ]
    }
   ],
   "source": [
    "arr1 = np.array([1, 2, 3, 4])\n",
    "arr2 = np.array([1.2, 3.5])\n",
    "arr3 = np.array([\"Hi\", \"ok\"])\n",
    "arr4 = np.array([True, False])\n",
    "\n",
    "print(arr1.dtype)\n",
    "print(arr2.dtype)\n",
    "print(arr3.dtype)\n",
    "print(arr4.dtype)"
   ]
  },
  {
   "cell_type": "markdown",
   "id": "2c8a5e92-1258-45fd-95fb-4f13e0580589",
   "metadata": {},
   "source": [
    "<h3>Type Casting</h3>"
   ]
  },
  {
   "cell_type": "code",
   "execution_count": 63,
   "id": "6797e930-d673-4110-9312-12165cadf966",
   "metadata": {},
   "outputs": [
    {
     "name": "stdout",
     "output_type": "stream",
     "text": [
      "[1 3]\n",
      "int32\n"
     ]
    }
   ],
   "source": [
    "arr = np.array([1.2, 3.5])\n",
    "newArr = arr.astype(\"i\")\n",
    "print(newArr)\n",
    "print(newArr.dtype)"
   ]
  },
  {
   "cell_type": "code",
   "execution_count": 65,
   "id": "15c76c14-2a7d-40ff-9613-998aed3bf441",
   "metadata": {},
   "outputs": [
    {
     "name": "stdout",
     "output_type": "stream",
     "text": [
      "['1' '2' '3' '4']\n",
      "<U11\n"
     ]
    }
   ],
   "source": [
    "arr = np.array([1, 2, 3, 4])\n",
    "newArr = arr.astype(\"str\")\n",
    "print(newArr)\n",
    "print(newArr.dtype)"
   ]
  },
  {
   "cell_type": "markdown",
   "id": "d61ee56c-03bf-4de3-be0f-3078c32d6394",
   "metadata": {},
   "source": [
    "<h3>Shape and Reshape</h3>"
   ]
  },
  {
   "cell_type": "code",
   "execution_count": 70,
   "id": "4faa3c4b-128e-422e-88a8-15769ce1e1b9",
   "metadata": {},
   "outputs": [
    {
     "name": "stdout",
     "output_type": "stream",
     "text": [
      "(2, 3)\n"
     ]
    }
   ],
   "source": [
    "arr = np.array([[1, 2, 3], [4, 5, 6]])\n",
    "print(arr.shape)"
   ]
  },
  {
   "cell_type": "code",
   "execution_count": 74,
   "id": "eccbffe6-81eb-4b64-9038-d66879224c7f",
   "metadata": {},
   "outputs": [
    {
     "name": "stdout",
     "output_type": "stream",
     "text": [
      "(1, 1, 2, 3)\n"
     ]
    }
   ],
   "source": [
    "arr = np.array([[1, 2, 3], [4, 5, 6]], ndmin = 4)\n",
    "print(arr.shape)"
   ]
  },
  {
   "cell_type": "code",
   "execution_count": 76,
   "id": "2b43b685-a666-4285-8448-22bb4939c95b",
   "metadata": {},
   "outputs": [
    {
     "name": "stdout",
     "output_type": "stream",
     "text": [
      "[[ 1  2  3  4]\n",
      " [ 5  6  7  8]\n",
      " [ 9 10 11 12]]\n"
     ]
    }
   ],
   "source": [
    "arr = np.array([1, 2, 3, 4, 5, 6, 7, 8, 9, 10, 11, 12])\n",
    "\n",
    "#Reshaping array into 3 rows and 4 columns\n",
    "arr = arr.reshape(3, 4)\n",
    "print(arr)"
   ]
  },
  {
   "cell_type": "code",
   "execution_count": 86,
   "id": "87770260-66c9-48f1-8bdf-2e8ee465b438",
   "metadata": {},
   "outputs": [
    {
     "name": "stdout",
     "output_type": "stream",
     "text": [
      "[[[ 1  2]\n",
      "  [ 3  4]]\n",
      "\n",
      " [[ 5  6]\n",
      "  [ 7  8]]\n",
      "\n",
      " [[ 9 10]\n",
      "  [11 12]]]\n"
     ]
    }
   ],
   "source": [
    "arr = np.array([1, 2, 3, 4, 5, 6, 7, 8, 9, 10, 11, 12])\n",
    "\n",
    "# Reshape the 1D array into a 3D array with shape (3, 2, 2). This means 3 blocks, each containing 2 rows and 2 columns\n",
    "arr = arr.reshape(3, 2, 2)\n",
    "print(arr)"
   ]
  },
  {
   "cell_type": "code",
   "execution_count": 88,
   "id": "6a004504-6667-4bd2-b583-69a5881505db",
   "metadata": {},
   "outputs": [
    {
     "name": "stdout",
     "output_type": "stream",
     "text": [
      "[1 2 3 6 7 8]\n"
     ]
    }
   ],
   "source": [
    "arr = np.array([[1, 2, 3], [6, 7, 8]])\n",
    "\n",
    "#Converting 2D arrat into 1D\n",
    "arr = arr.reshape(-1)\n",
    "print(arr)"
   ]
  },
  {
   "cell_type": "markdown",
   "id": "ec1390b5-5fcb-4f68-8067-aa4d115b0426",
   "metadata": {},
   "source": [
    "<h3>Concatenating Numpy Arrays</h3>"
   ]
  },
  {
   "cell_type": "code",
   "execution_count": 93,
   "id": "63dd5078-00ea-4f87-9e19-e5dc440bee52",
   "metadata": {},
   "outputs": [
    {
     "name": "stdout",
     "output_type": "stream",
     "text": [
      "[[1 2]\n",
      " [3 4]\n",
      " [5 6]\n",
      " [7 8]]\n"
     ]
    }
   ],
   "source": [
    "arr1 = np.array([[1, 2], [3, 4]])\n",
    "arr2 = np.array([[5, 6], [7, 8]])\n",
    "arr3 = np.concatenate([arr1, arr2])\n",
    "print(arr3)"
   ]
  },
  {
   "cell_type": "code",
   "execution_count": 95,
   "id": "ec7343d8-0df6-4e25-9dac-789547ef5ad9",
   "metadata": {},
   "outputs": [
    {
     "name": "stdout",
     "output_type": "stream",
     "text": [
      "[[1 2 5 6]\n",
      " [3 4 7 8]]\n"
     ]
    }
   ],
   "source": [
    "arr1 = np.array([[1, 2], [3, 4]])\n",
    "arr2 = np.array([[5, 6], [7, 8]])\n",
    "arr3 = np.concatenate([arr1, arr2], axis = 1)\n",
    "print(arr3)"
   ]
  },
  {
   "cell_type": "code",
   "execution_count": 97,
   "id": "f9e1dddd-d430-471f-8522-efc2764dce68",
   "metadata": {},
   "outputs": [
    {
     "name": "stdout",
     "output_type": "stream",
     "text": [
      "[[1 2]\n",
      " [3 4]]\n"
     ]
    }
   ],
   "source": [
    "arr1 = np.array([1, 2])\n",
    "arr2 = np.array([3, 4])\n",
    "arr3 = np.stack([arr1, arr2])\n",
    "print(arr3)"
   ]
  },
  {
   "cell_type": "code",
   "execution_count": 99,
   "id": "7528a6ec-3c59-4014-a6fd-45b171ce9721",
   "metadata": {},
   "outputs": [
    {
     "name": "stdout",
     "output_type": "stream",
     "text": [
      "[[1 3]\n",
      " [2 4]]\n"
     ]
    }
   ],
   "source": [
    "arr1 = np.array([1, 2])\n",
    "arr2 = np.array([3, 4])\n",
    "arr3 = np.stack([arr1, arr2], axis = 1)\n",
    "print(arr3)"
   ]
  },
  {
   "cell_type": "code",
   "execution_count": 103,
   "id": "db7a2181-23a8-480b-b529-4415005894e3",
   "metadata": {},
   "outputs": [
    {
     "name": "stdout",
     "output_type": "stream",
     "text": [
      "[1 2 3 4]\n"
     ]
    }
   ],
   "source": [
    "arr1 = np.array([1, 2])\n",
    "arr2 = np.array([3, 4])\n",
    "arr3 = np.hstack([arr1, arr2])\n",
    "print(arr3)"
   ]
  },
  {
   "cell_type": "code",
   "execution_count": 105,
   "id": "3e0ffb86-26ec-43f8-ba7a-c04d7ac17d89",
   "metadata": {},
   "outputs": [
    {
     "name": "stdout",
     "output_type": "stream",
     "text": [
      "[[1 2 3 4]\n",
      " [7 8 5 6]]\n"
     ]
    }
   ],
   "source": [
    "arr1 = np.array([[1, 2], [7, 8]])\n",
    "arr2 = np.array([[3, 4], [5, 6]])\n",
    "arr3 = np.hstack([arr1, arr2])\n",
    "print(arr3)"
   ]
  },
  {
   "cell_type": "code",
   "execution_count": 107,
   "id": "b315d251-7e05-4a82-8c56-850912e2db87",
   "metadata": {},
   "outputs": [
    {
     "name": "stdout",
     "output_type": "stream",
     "text": [
      "[[1 2]\n",
      " [3 4]]\n"
     ]
    }
   ],
   "source": [
    "arr1 = np.array([1, 2])\n",
    "arr2 = np.array([3, 4])\n",
    "arr3 = np.vstack([arr1, arr2])\n",
    "print(arr3)"
   ]
  },
  {
   "cell_type": "code",
   "execution_count": 109,
   "id": "50ebbe14-f7b0-411f-823c-368626ab4dfa",
   "metadata": {},
   "outputs": [
    {
     "name": "stdout",
     "output_type": "stream",
     "text": [
      "[[1 2]\n",
      " [7 8]\n",
      " [3 4]\n",
      " [5 6]]\n"
     ]
    }
   ],
   "source": [
    "arr1 = np.array([[1, 2], [7, 8]])\n",
    "arr2 = np.array([[3, 4], [5, 6]])\n",
    "arr3 = np.vstack([arr1, arr2])\n",
    "print(arr3)"
   ]
  },
  {
   "cell_type": "markdown",
   "id": "2fbf5c7f-ac05-4923-b4a9-1082c72b8b3f",
   "metadata": {},
   "source": [
    "<h3>Spliting Array</h3>"
   ]
  },
  {
   "cell_type": "code",
   "execution_count": 116,
   "id": "dc28b610-32d2-476d-a370-66f41980d45d",
   "metadata": {},
   "outputs": [
    {
     "name": "stdout",
     "output_type": "stream",
     "text": [
      "[array([1, 2, 3]), array([4, 5, 6])]\n",
      "[array([1, 2]), array([3]), array([4]), array([5]), array([6])]\n"
     ]
    }
   ],
   "source": [
    "arr = np.array([1, 2, 3, 4, 5, 6])\n",
    "newArr = np.array_split(arr, 2)\n",
    "print(newArr)\n",
    "newArr = np.array_split(arr, 5)\n",
    "print(newArr)"
   ]
  },
  {
   "cell_type": "code",
   "execution_count": 126,
   "id": "e9904f60-a74b-4c49-8f77-682b7a19099f",
   "metadata": {},
   "outputs": [
    {
     "name": "stdout",
     "output_type": "stream",
     "text": [
      "[array([[1, 2, 3],\n",
      "       [4, 5, 6]]), array([[ 7,  8,  9],\n",
      "       [10, 11, 12]]), array([[13, 14, 15],\n",
      "       [16, 17, 18]])]\n"
     ]
    }
   ],
   "source": [
    "arr = np.array([[1, 2, 3], [4, 5, 6], [7, 8, 9], [10, 11, 12], [13, 14, 15], [16, 17, 18]])\n",
    "\n",
    "newArr = np.array_split(arr, 3)\n",
    "print(newArr)"
   ]
  },
  {
   "cell_type": "code",
   "execution_count": 130,
   "id": "9b5e41f2-ada7-43e5-91dd-b4b02cd7f5e3",
   "metadata": {},
   "outputs": [
    {
     "name": "stdout",
     "output_type": "stream",
     "text": [
      "[array([1, 2, 3]), array([4, 5, 6])]\n"
     ]
    }
   ],
   "source": [
    "arr = np.array([1, 2, 3, 4, 5, 6])\n",
    "newArr = np.hsplit(arr, 2)\n",
    "print(newArr)"
   ]
  },
  {
   "cell_type": "code",
   "execution_count": 134,
   "id": "5f7e2299-e62b-4660-bb86-e704e220e16d",
   "metadata": {},
   "outputs": [
    {
     "name": "stdout",
     "output_type": "stream",
     "text": [
      "[array([[ 1],\n",
      "       [ 4],\n",
      "       [ 7],\n",
      "       [10],\n",
      "       [13],\n",
      "       [16]]), array([[ 2],\n",
      "       [ 5],\n",
      "       [ 8],\n",
      "       [11],\n",
      "       [14],\n",
      "       [17]]), array([[ 3],\n",
      "       [ 6],\n",
      "       [ 9],\n",
      "       [12],\n",
      "       [15],\n",
      "       [18]])]\n"
     ]
    }
   ],
   "source": [
    "arr = np.array([[1, 2, 3], [4, 5, 6], [7, 8, 9], [10, 11, 12], [13, 14, 15], [16, 17, 18]])\n",
    "\n",
    "newArr = np.hsplit(arr, 3)\n",
    "print(newArr)"
   ]
  },
  {
   "cell_type": "code",
   "execution_count": 136,
   "id": "3c994d8e-fe27-4c7b-ba5a-474c878b7771",
   "metadata": {},
   "outputs": [
    {
     "name": "stdout",
     "output_type": "stream",
     "text": [
      "[array([[1, 2, 3],\n",
      "       [4, 5, 6]]), array([[ 7,  8,  9],\n",
      "       [10, 11, 12]]), array([[13, 14, 15],\n",
      "       [16, 17, 18]])]\n"
     ]
    }
   ],
   "source": [
    "arr = np.array([[1, 2, 3], [4, 5, 6], [7, 8, 9], [10, 11, 12], [13, 14, 15], [16, 17, 18]])\n",
    "\n",
    "newArr = np.vsplit(arr, 3)\n",
    "print(newArr)"
   ]
  },
  {
   "cell_type": "markdown",
   "id": "573c472e-f7c9-44a8-ad77-49d5330fba49",
   "metadata": {},
   "source": [
    "<h3>Transpose</h3>"
   ]
  },
  {
   "cell_type": "code",
   "execution_count": 139,
   "id": "5a99d490-98a1-4985-bed4-4bc9c5d5cedf",
   "metadata": {},
   "outputs": [
    {
     "name": "stdout",
     "output_type": "stream",
     "text": [
      "[[ 1  4  7 10]\n",
      " [ 2  5  8 11]\n",
      " [ 3  6  9 12]]\n"
     ]
    }
   ],
   "source": [
    "arr = np.array([[1, 2, 3], [4, 5, 6], [7, 8, 9], [10, 11, 12]])\n",
    "\n",
    "newArr = np.transpose(arr)\n",
    "print(newArr)"
   ]
  },
  {
   "cell_type": "markdown",
   "id": "3381dd0b-b923-49f1-b07d-aaf714019d50",
   "metadata": {},
   "source": [
    "<h3>Searching Array</h3>"
   ]
  },
  {
   "cell_type": "code",
   "execution_count": 144,
   "id": "0c162857-f3fc-499f-b64c-22b0d59400d0",
   "metadata": {},
   "outputs": [
    {
     "name": "stdout",
     "output_type": "stream",
     "text": [
      "(array([3, 5, 6], dtype=int64),)\n"
     ]
    }
   ],
   "source": [
    "arr = np.array([1, 2, 3, 4, 5, 4, 4])\n",
    "x = np.where(arr == 4)\n",
    "print(x)"
   ]
  },
  {
   "cell_type": "code",
   "execution_count": 146,
   "id": "5eb8a402-f1c6-4d03-b7a1-cef4cc9826a3",
   "metadata": {},
   "outputs": [
    {
     "name": "stdout",
     "output_type": "stream",
     "text": [
      "(array([1, 3, 5, 6], dtype=int64),)\n"
     ]
    }
   ],
   "source": [
    "x = np.where(arr % 2 == 0)\n",
    "print(x)"
   ]
  },
  {
   "cell_type": "code",
   "execution_count": 154,
   "id": "c8a3f0d7-ac38-4578-9378-e15e7e4bfdff",
   "metadata": {},
   "outputs": [
    {
     "name": "stdout",
     "output_type": "stream",
     "text": [
      "1\n"
     ]
    }
   ],
   "source": [
    "x = np.searchsorted(arr, 2)\n",
    "print(x)"
   ]
  },
  {
   "cell_type": "code",
   "execution_count": 160,
   "id": "e567c6c2-2d93-429a-a92d-16d32a79b7e6",
   "metadata": {},
   "outputs": [
    {
     "name": "stdout",
     "output_type": "stream",
     "text": [
      "[7 7 7]\n"
     ]
    }
   ],
   "source": [
    "#In this case it will show that where will be these elements inserted in array\n",
    "x = np.searchsorted(arr, [6,7,8])\n",
    "print(x)"
   ]
  },
  {
   "cell_type": "markdown",
   "id": "7600a962-e958-457f-a4bb-6dbec4c635a8",
   "metadata": {},
   "source": [
    "<h3>Sorting Array</h3>"
   ]
  },
  {
   "cell_type": "code",
   "execution_count": 163,
   "id": "e19e8921-73a7-4c3b-9152-7bf9e82e0c2a",
   "metadata": {},
   "outputs": [
    {
     "name": "stdout",
     "output_type": "stream",
     "text": [
      "[[1 3 6]\n",
      " [2 4 5]]\n"
     ]
    }
   ],
   "source": [
    "arr = np.array([[1,3,6], [2,5,4]])\n",
    "newArr = np.sort(arr)\n",
    "print(newArr)"
   ]
  },
  {
   "cell_type": "markdown",
   "id": "676b4ab6-dff8-4808-9d14-d720d2c9abc1",
   "metadata": {},
   "source": [
    "<h3>Filtering Array</h3>"
   ]
  },
  {
   "cell_type": "code",
   "execution_count": 166,
   "id": "cf0dfdd9-d53c-43b6-9dda-db66475191c7",
   "metadata": {},
   "outputs": [
    {
     "name": "stdout",
     "output_type": "stream",
     "text": [
      "[13 14]\n"
     ]
    }
   ],
   "source": [
    "arr = np.array([12,13,14,15])\n",
    "x = [False, True, True, False]\n",
    "newArr = arr[x]\n",
    "print(newArr)"
   ]
  },
  {
   "cell_type": "code",
   "execution_count": 170,
   "id": "125b33ad-3048-4683-865b-edf126c28020",
   "metadata": {},
   "outputs": [
    {
     "name": "stdout",
     "output_type": "stream",
     "text": [
      "[False, False, True, False, False, True, True, True, True]\n",
      "[16 19 18 17 20]\n"
     ]
    }
   ],
   "source": [
    "arr = np.array([13, 12, 16, 15, 14, 19, 18, 17, 20])\n",
    "filterArr = []\n",
    "\n",
    "for element in arr:\n",
    "    if element > 15:\n",
    "        filterArr.append(True)\n",
    "    else:\n",
    "        filterArr.append(False)\n",
    "\n",
    "newArr = arr[filterArr]\n",
    "\n",
    "print(filterArr)\n",
    "print(newArr)"
   ]
  },
  {
   "cell_type": "code",
   "execution_count": 172,
   "id": "ee0cb923-27b7-4425-9aee-4dc9768d95bf",
   "metadata": {},
   "outputs": [
    {
     "name": "stdout",
     "output_type": "stream",
     "text": [
      "[12 16 14 18 20]\n"
     ]
    }
   ],
   "source": [
    "filterArr = []\n",
    "\n",
    "for element in arr:\n",
    "    if element % 2 == 0:\n",
    "        filterArr.append(True)\n",
    "    else:\n",
    "        filterArr.append(False)\n",
    "\n",
    "newArr = arr[filterArr]\n",
    "print(newArr)"
   ]
  },
  {
   "cell_type": "markdown",
   "id": "3a0ab864-e173-41d0-8a53-57a4aea46924",
   "metadata": {},
   "source": [
    "<h3>Array Operation</h3>"
   ]
  },
  {
   "cell_type": "code",
   "execution_count": 177,
   "id": "b3482aed-f2dd-4c04-a3b2-e440511e0ef3",
   "metadata": {},
   "outputs": [
    {
     "name": "stdout",
     "output_type": "stream",
     "text": [
      "[ 6  8 10 12]\n",
      "[ 6  8 10 12]\n"
     ]
    }
   ],
   "source": [
    "arr1 = np.array([1, 2, 3, 4])\n",
    "arr2 = np.array([5, 6, 7, 8])\n",
    "\n",
    "print(arr1 + arr2)\n",
    "print(np.add(arr1, arr2))"
   ]
  },
  {
   "cell_type": "code",
   "execution_count": 179,
   "id": "eb4c3deb-0ee1-4cbc-a301-336286d5e077",
   "metadata": {},
   "outputs": [
    {
     "name": "stdout",
     "output_type": "stream",
     "text": [
      "[1 1 3 7]\n",
      "[1 1 3 7]\n"
     ]
    }
   ],
   "source": [
    "arr1 = np.array([6, 7, 10, 15])\n",
    "arr2 = np.array([5, 6, 7, 8])\n",
    "\n",
    "print(arr1 - arr2)\n",
    "print(np.subtract(arr1, arr2))"
   ]
  },
  {
   "cell_type": "code",
   "execution_count": 5,
   "id": "34f9888d-c851-4eda-a3fa-a8ba452b28af",
   "metadata": {},
   "outputs": [
    {
     "name": "stdout",
     "output_type": "stream",
     "text": [
      "[ 5 12 21 32]\n",
      "[ 5 12 21 32]\n"
     ]
    }
   ],
   "source": [
    "arr1 = np.array([1, 2, 3, 4])\n",
    "arr2 = np.array([5, 6, 7, 8])\n",
    "\n",
    "print(arr1 * arr2)\n",
    "print(np.multiply(arr1, arr2))"
   ]
  },
  {
   "cell_type": "code",
   "execution_count": 7,
   "id": "8108e09a-06ee-4902-949f-a15cc796954b",
   "metadata": {},
   "outputs": [
    {
     "name": "stdout",
     "output_type": "stream",
     "text": [
      "[1.2        1.16666667 1.42857143 1.875     ]\n",
      "[1.2        1.16666667 1.42857143 1.875     ]\n"
     ]
    }
   ],
   "source": [
    "arr1 = np.array([6, 7, 10, 15])\n",
    "arr2 = np.array([5, 6, 7, 8])\n",
    "\n",
    "print(arr1 / arr2)\n",
    "print(np.divide(arr1, arr2))"
   ]
  },
  {
   "cell_type": "code",
   "execution_count": 9,
   "id": "594ef003-b4de-4dbf-ab90-be0147e033fc",
   "metadata": {},
   "outputs": [
    {
     "name": "stdout",
     "output_type": "stream",
     "text": [
      "[ 4  9 16 25]\n"
     ]
    }
   ],
   "source": [
    "arr = np.array([2, 3, 4, 5])\n",
    "\n",
    "print(np.power(arr, 2))"
   ]
  },
  {
   "cell_type": "code",
   "execution_count": 17,
   "id": "15ddbe62-8408-4811-9feb-d05907df6f44",
   "metadata": {},
   "outputs": [
    {
     "name": "stdout",
     "output_type": "stream",
     "text": [
      "[3. 4. 7. 9.]\n"
     ]
    }
   ],
   "source": [
    "arr = np.array([9, 16, 49, 81])\n",
    "\n",
    "print(np.sqrt(arr))"
   ]
  },
  {
   "cell_type": "code",
   "execution_count": 19,
   "id": "2c8d08e0-d75b-4fb9-9480-8f725a0a57bd",
   "metadata": {},
   "outputs": [
    {
     "name": "stdout",
     "output_type": "stream",
     "text": [
      "1\n"
     ]
    }
   ],
   "source": [
    "arr = np.array([4, 6, 5, 2, 1, 3])\n",
    "\n",
    "print(np.min(arr))"
   ]
  },
  {
   "cell_type": "code",
   "execution_count": 21,
   "id": "1c33808b-77bd-4880-9ec7-6bb67b990b57",
   "metadata": {},
   "outputs": [
    {
     "name": "stdout",
     "output_type": "stream",
     "text": [
      "6\n"
     ]
    }
   ],
   "source": [
    "print(np.max(arr))"
   ]
  },
  {
   "cell_type": "code",
   "execution_count": 23,
   "id": "fcfcc699-b10d-4653-b9bd-eaa98758381e",
   "metadata": {
    "scrolled": true
   },
   "outputs": [
    {
     "name": "stdout",
     "output_type": "stream",
     "text": [
      "6\n"
     ]
    }
   ],
   "source": [
    "print(np.size(arr))"
   ]
  },
  {
   "cell_type": "code",
   "execution_count": 25,
   "id": "de92a1d5-8c91-4f0a-ac2e-b9613eb635fd",
   "metadata": {},
   "outputs": [
    {
     "name": "stdout",
     "output_type": "stream",
     "text": [
      "[ 4 10 15 17 18 21]\n"
     ]
    }
   ],
   "source": [
    "print(np.cumsum(arr))"
   ]
  },
  {
   "cell_type": "code",
   "execution_count": 27,
   "id": "d04374e0-1559-4356-9817-900a6041a4eb",
   "metadata": {},
   "outputs": [
    {
     "name": "stdout",
     "output_type": "stream",
     "text": [
      "[  4  24 120 240 240 720]\n"
     ]
    }
   ],
   "source": [
    "print(np.cumprod(arr))"
   ]
  },
  {
   "cell_type": "markdown",
   "id": "ab7bb37f-efec-4afc-aca7-4e8d31408832",
   "metadata": {},
   "source": [
    "<h3>Statictical and Mathematics Function</h3>"
   ]
  },
  {
   "cell_type": "code",
   "execution_count": 31,
   "id": "76cc4f78-81a8-4ef7-8639-a82f55f87ca3",
   "metadata": {},
   "outputs": [
    {
     "name": "stdout",
     "output_type": "stream",
     "text": [
      "12.8\n"
     ]
    }
   ],
   "source": [
    "arr = np.array([20, 2, 7, 1, 34])\n",
    "\n",
    "#Mean\n",
    "print(np.mean(arr))"
   ]
  },
  {
   "cell_type": "code",
   "execution_count": 37,
   "id": "38c77234-069f-44ae-aa3d-7bfb410b61bf",
   "metadata": {
    "scrolled": true
   },
   "outputs": [
    {
     "name": "stdout",
     "output_type": "stream",
     "text": [
      "7.0\n"
     ]
    }
   ],
   "source": [
    "#Median\n",
    "print(np.median(arr))"
   ]
  },
  {
   "cell_type": "code",
   "execution_count": 35,
   "id": "da9e4db7-8caa-48a9-a11e-a9d131ef4c37",
   "metadata": {},
   "outputs": [
    {
     "name": "stdout",
     "output_type": "stream",
     "text": [
      "12.576167937809991\n"
     ]
    }
   ],
   "source": [
    "#Standard deviation\n",
    "print(np.std(arr))"
   ]
  },
  {
   "cell_type": "code",
   "execution_count": 39,
   "id": "c4125f83-5038-43a8-bad8-893f28f2f151",
   "metadata": {},
   "outputs": [
    {
     "name": "stdout",
     "output_type": "stream",
     "text": [
      "158.16\n"
     ]
    }
   ],
   "source": [
    "#Variance\n",
    "print(np.var(arr))"
   ]
  },
  {
   "cell_type": "code",
   "execution_count": 49,
   "id": "683279e1-a431-4961-a416-70fe075c27f8",
   "metadata": {},
   "outputs": [
    {
     "name": "stdout",
     "output_type": "stream",
     "text": [
      "32\n"
     ]
    }
   ],
   "source": [
    "arr1 = np.array([1, 2, 3])\n",
    "arr2 = np.array([4, 5, 6])\n",
    "\n",
    "#Dot product\n",
    "arr3 = np.dot(arr1, arr2)\n",
    "print(arr3)"
   ]
  },
  {
   "cell_type": "markdown",
   "id": "54acd11b-0bdc-49b9-990c-0f48ef5f9477",
   "metadata": {},
   "source": [
    "<h3>Random Number Generation</h3>"
   ]
  },
  {
   "cell_type": "code",
   "execution_count": 54,
   "id": "a2b29ecd-d637-4135-82d1-ffa3769c838d",
   "metadata": {},
   "outputs": [
    {
     "name": "stdout",
     "output_type": "stream",
     "text": [
      "[[0.83337618 0.60247155 0.07254976]\n",
      " [0.12996084 0.99987166 0.12694634]]\n"
     ]
    }
   ],
   "source": [
    "#Random decomal values\n",
    "\n",
    "arr = np.random.rand(2, 3)\n",
    "print(arr)"
   ]
  },
  {
   "cell_type": "code",
   "execution_count": 58,
   "id": "48103606-e748-4896-925e-955bcfc32914",
   "metadata": {},
   "outputs": [
    {
     "name": "stdout",
     "output_type": "stream",
     "text": [
      "[[12 49 25 37 24]\n",
      " [ 3 24 22  0 45]\n",
      " [35 11 24 46 40]]\n"
     ]
    }
   ],
   "source": [
    "#Random integer values\n",
    "\n",
    "arr = np.random.randint(50, size = (3, 5))\n",
    "print(arr)"
   ]
  },
  {
   "cell_type": "markdown",
   "id": "e2082376-e04c-4954-bca8-9e762cac4706",
   "metadata": {},
   "source": [
    "<h3>Types of Array Creation</h3>"
   ]
  },
  {
   "cell_type": "code",
   "execution_count": 63,
   "id": "03004083-8d2a-4b71-ad87-b929e7424ddf",
   "metadata": {},
   "outputs": [
    {
     "name": "stdout",
     "output_type": "stream",
     "text": [
      "[[1. 0. 0.]\n",
      " [0. 1. 0.]\n",
      " [0. 0. 1.]]\n"
     ]
    }
   ],
   "source": [
    "#Identity\n",
    "arr = np.identity(3)\n",
    "print(arr)"
   ]
  },
  {
   "cell_type": "code",
   "execution_count": 73,
   "id": "7b7d8915-62e7-4dca-b36a-cb3255cd246d",
   "metadata": {},
   "outputs": [
    {
     "name": "stdout",
     "output_type": "stream",
     "text": [
      "[[0. 0. 0.]\n",
      " [0. 0. 0.]]\n"
     ]
    }
   ],
   "source": [
    "#All zeros\n",
    "arr = np.zeros([2,3])\n",
    "print(arr)"
   ]
  },
  {
   "cell_type": "code",
   "execution_count": 71,
   "id": "2499db81-a5b1-450a-90de-9b5d95510e48",
   "metadata": {},
   "outputs": [
    {
     "name": "stdout",
     "output_type": "stream",
     "text": [
      "[[1. 1. 1. 1.]\n",
      " [1. 1. 1. 1.]\n",
      " [1. 1. 1. 1.]]\n"
     ]
    }
   ],
   "source": [
    "#All ones\n",
    "arr = np.ones([3, 4])\n",
    "print(arr)"
   ]
  },
  {
   "cell_type": "code",
   "execution_count": 105,
   "id": "51db81a9-e994-4bf9-b4c6-1f1076051ba4",
   "metadata": {},
   "outputs": [
    {
     "name": "stdout",
     "output_type": "stream",
     "text": [
      "[[ 1  2  3  4  5]\n",
      " [ 6  7  8  9 10]\n",
      " [11 12 13 14 15]\n",
      " [16 17 18 19 20]\n",
      " [21 22 23 24 25]]\n"
     ]
    }
   ],
   "source": [
    "#arange\n",
    "\n",
    "arr = np.arange(1, 26)\n",
    "arr = arr.reshape([5,5])\n",
    "print(arr)"
   ]
  },
  {
   "cell_type": "code",
   "execution_count": 111,
   "id": "215ae8b9-c27a-4b52-853d-51c0b0baeda6",
   "metadata": {},
   "outputs": [
    {
     "name": "stdout",
     "output_type": "stream",
     "text": [
      "[ 1.  8. 15. 22. 29. 36. 43. 50. 57. 64. 71. 78. 85. 92. 99.]\n"
     ]
    }
   ],
   "source": [
    "#linspace\n",
    "arr = np.linspace(1,99, num = 15)\n",
    "print(arr)"
   ]
  },
  {
   "cell_type": "code",
   "execution_count": 127,
   "id": "856dc64a-aac6-4e94-acb0-2e8aff678965",
   "metadata": {},
   "outputs": [
    {
     "name": "stdout",
     "output_type": "stream",
     "text": [
      "[[1. 1. 1. 1. 1.]\n",
      " [1. 0. 0. 0. 1.]\n",
      " [1. 0. 9. 0. 1.]\n",
      " [1. 0. 0. 0. 1.]\n",
      " [1. 1. 1. 1. 1.]]\n"
     ]
    }
   ],
   "source": [
    "arr = np.ones([5,5])\n",
    "zeroArr = np.zeros([3,3])\n",
    "zeroArr[1][1] = 9\n",
    "arr[1:4, 1:4] = zeroArr\n",
    "print(arr)"
   ]
  }
 ],
 "metadata": {
  "kernelspec": {
   "display_name": "Python 3 (ipykernel)",
   "language": "python",
   "name": "python3"
  },
  "language_info": {
   "codemirror_mode": {
    "name": "ipython",
    "version": 3
   },
   "file_extension": ".py",
   "mimetype": "text/x-python",
   "name": "python",
   "nbconvert_exporter": "python",
   "pygments_lexer": "ipython3",
   "version": "3.12.4"
  }
 },
 "nbformat": 4,
 "nbformat_minor": 5
}
